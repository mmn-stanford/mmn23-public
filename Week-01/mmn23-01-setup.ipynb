{
 "cells": [
  {
   "cell_type": "markdown",
   "metadata": {},
   "source": [
    "# Welcome to Mind-reading with Movies and Neuroimaging, 2023!\n",
    "\n",
    "Congratulations, if you are viewing this Jupyter notebook, you have already acquired many of the skills necessary to excel in this course and you are well on your way to learning cutting-edge methods for cognitive neuroscience!\n",
    "\n",
    "In this course we will use a variety of tools, many of which will likely be new to you. Don't worry if you are having trouble wrapping your head around them now: by the end of this course you will be proficient in not only these useful skills but also the exciting analyses that use them. We also hope that this course gives you the confidence to adopt methods that aren't covered here!\n",
    "\n",
    "## Goal of this script\n",
    "    Familiarize yourself with the tools that will be used in the course exercise notebooks\n",
    "\n",
    "\n",
    "## Table of Contents\n",
    "[0. Survey](#survey)\n",
    "\n",
    "[1. GitHub](#git)  \n",
    "\n",
    "[2. Jupyter](#jupyter)  \n",
    "\n",
    "[3. Python](#python)  \n",
    "\n",
    "[4. fMRI](#fMRI)  \n",
    "\n",
    "[5. Movies](#movies)  \n",
    "\n",
    "[6. Brainiak](#brainiak)  \n",
    "\n",
    "[7. Getting started](#starting) \n",
    "\n",
    "Exercises\n",
    ">[Survey](#survey)  \n",
    ">[Exercise 1](#ex1)    [2](#ex2)    [3](#ex3)  "
   ]
  },
  {
   "cell_type": "markdown",
   "metadata": {},
   "source": [
    "## 0. Survey <a id=\"survey\"></a>"
   ]
  },
  {
   "cell_type": "markdown",
   "metadata": {},
   "source": [
    "Before we jump into the material we would like to survey you to get to know you better and to find out your familarity with the content we will be covering. Only your instructors will be able to see what you say. We want this course to be accessible, but it will be a challenge for students who have no experience with the skills we will be developing here. Next week we will check in to see if this course is right for you."
   ]
  },
  {
   "cell_type": "markdown",
   "metadata": {},
   "source": [
    "Please fill out the survey by editing the [markdown](https://en.wikipedia.org/wiki/Markdown) text after where it says \"A:\""
   ]
  },
  {
   "cell_type": "markdown",
   "metadata": {},
   "source": [
    "**Q1**: Have you ever used Jupyter Notebooks before?  \n",
    "If your answer is no, you might not be able to even answer the question! We encourage you to go to this [Jupyter notebook tutorial](https://mybinder.org/v2/gh/ipython/ipython-in-depth/master?filepath=binder/Index.ipynb). In particular the first 3 tutorials are critical: **1. Notebook Basics**, **2. IPython - beyond plain python**, **3. Markdown Cells**)  \n",
    "\n",
    "\n",
    "A: "
   ]
  },
  {
   "cell_type": "markdown",
   "metadata": {},
   "source": [
    "**Q2**: List the programming languages you feel comfortable with:\n",
    "\n",
    "A: "
   ]
  },
  {
   "cell_type": "markdown",
   "metadata": {},
   "source": [
    "**Q3**: Describe your experience (if any!) with git:  \n",
    "  \n",
    "A: "
   ]
  },
  {
   "cell_type": "markdown",
   "metadata": {},
   "source": [
    "**Q4**: Have you done Psych204A or B? If you have not, please go to the [fMRI](#fMRI) section and the four videos listed (a total of ~2 hours). Please confirm that you have in the answer below.\n",
    "\n",
    "A:"
   ]
  },
  {
   "cell_type": "markdown",
   "metadata": {},
   "source": [
    "**Q5**: Describe your experience with fMRI data, including relevant coursework, data collection, data analysis, etc. If you have done preprocessing, what software did you use (AFNI, FSL, SPM, BrainVoyager, fmriprep etc.)?\n",
    "\n",
    "A: "
   ]
  },
  {
   "cell_type": "markdown",
   "metadata": {},
   "source": [
    "**Q6**: **Bold** the following methods you have heard of before, *italicize* the methods you have used before (don't know how to format markdown text like this? Make sure you did the tutorial in Q1!):\n",
    "\n",
    "A:  \n",
    "- Support Vector Machine\n",
    "- Searchlights\n",
    "- Representational Similarity Analysis  \n",
    "- Intersubject Connectivity Analysis \n",
    "- Shared Response Modeling\n",
    "- Hidden Markov Modeling\n",
    "- Encoding models"
   ]
  },
  {
   "cell_type": "markdown",
   "metadata": {},
   "source": [
    "**Q7**: Describe your experience with high-performance computing. Have you logged in to Stanford's cluster (e.g., Farmshare, Sherlock) before? Have you used other clusters on campus or in the cloud?\n",
    "\n",
    "A: "
   ]
  },
  {
   "cell_type": "markdown",
   "metadata": {},
   "source": [
    "**Q8**: Help us understand why you are taking this course. Create a new cell below this prompt containing three goals of what you hope to learn/accomplish this semester (don't know how to add a cell? Make sure you have done the tutorials in Q1):"
   ]
  },
  {
   "cell_type": "markdown",
   "metadata": {},
   "source": [
    "## 1. GitHub<a id=\"git\"></a>\n",
    "\n",
    "To be looking at this notebook means you must have forayed into GitHub. It is a version control system that allows you to manage code when working with others and sharing code publicly.\n",
    "\n",
    "GitHub can be scary, especially given that a lot of the language used to explain it and its goals can be unfamilar. Googling 'github for beginners' usually assumes a level of knowledge that many don't have. A good step zero for understanding git is found [here](https://readwrite.com/2013/09/30/understanding-github-a-journey-for-beginners-part-1/) (yes, this is from 2013, but it is still relevant and a great first step!). Another useful way to get familiar with the basics of GitHub is by doing this quick [tutorial](https://guides.github.com/activities/hello-world/).\n",
    "\n",
    "**Some additional things you should be aware of:**\n",
    "\n",
    "*It is hard to break git:* because git is a version control system, most of the time you will have backups of everything you do. It is actually very hard to delete what you have done. That leads to...\n",
    "\n",
    "*It is easy to tangle up a git:* your local repository (i.e., the folder on your computer/cluster) can easily fall out of sync of your remote (i.e., the folder on the git website) if you are collaborating with others or you have two copies of a single git repository. To minimize the risk of this, you should...\n",
    "\n",
    "*Commit often:* This is a cardinal rule. If you are regularly committing then you will catch inconsistencies between repositories before they fester. \n",
    "\n",
    "*Don't put data on there!* This is very important. Firstly, fMRI data can contain confidential information and GitHub is not secure. Moreover, you shouldn't store more than 100Mb in a repo because it makes things really slow.\n"
   ]
  },
  {
   "cell_type": "markdown",
   "metadata": {},
   "source": [
    "## 2. Jupyter<a id=\"jupyter\"></a>\n",
    "\n",
    "Jupyter Lab is a convenient GUI for running simple code and visualizing results. Jupyter is not an ideal place to learn a new language like Python since it won't provide a lot of the helpful nudges that coding environments like [VS-code](https://code.visualstudio.com/), [PyCharm](https://www.jetbrains.com/pycharm/) or [Spyder](https://www.coursera.org/lecture/python-programming-introduction/introduction-to-the-spyder-ide-ywcuv) do, but it is a perfect tool to debug analyses and distribute results once you have some Python expertise. \n",
    "\n",
    "We will mainly use the notebook feature of Jupyter in this course. As mentioned earlier, a great tutorial is here: [Jupyter notebook tutorial](https://mybinder.org/v2/gh/ipython/ipython-in-depth/master?filepath=binder/Index.ipynb).\n",
    "\n",
    "Although most of your experience with Jupyter will be using a Python kernel, you can actually use Jupyter for multiple languages, like [R](https://github.com/IRkernel/IRkernel) or [matlab](https://github.com/Calysto/matlab_kernel).\n",
    "\n",
    "\n",
    "**Really (really) useful shortcuts:**  \n",
    "`ESC` - Change from editing mode into command mode  \n",
    "\n",
    "In command mode:\n",
    "\n",
    "`a` - make new cell above  \n",
    "`b` - make new cell below  \n",
    "`dd` - delete cell  \n",
    "`m` - convert a code cell into a markdown cell  \n",
    "\n",
    "While writing code:  \n",
    "`[TAB]` - Autocomplete code  \n",
    "`[SHIFT] + [TAB]` - Open the Help on a function  \n",
    "\n",
    "Jupyter Magics (magics are meta-parameters you can set in a notebook to control how the notebook works):  \n",
    "`%matplotlib inline` - render any plots generated in-line\n"
   ]
  },
  {
   "cell_type": "markdown",
   "metadata": {},
   "source": [
    "<div class=\"alert alert-block alert-warning\">\n",
    "<strong>Don't forget to save regularly!</strong> The jupyter-notebook will run for 4 hours at a time, and if you don't save before your job dies, you CANNOT save it, even if you restart a new job. This means you will lose everything unsaved...   <br>\n",
    "    <br>\n",
    "...That said, the window will stay open in your browser even if you lose internet connection or the job ends, so you could copy over the changes\n",
    "</div>"
   ]
  },
  {
   "cell_type": "markdown",
   "metadata": {},
   "source": [
    "## 3. Python<a id=\"python\"></a>\n",
    "\n",
    "Over recent years, Python has grown tremendously in popularity, particularly for analysis of big data. It boasts a number of benefits: open source, free, and developed extensively for machine learning. It is probably now the main language used for advanced neuroimaging analyses. \n",
    "\n",
    "Learning to code in Python is moderately difficult compared to other languages: sometimes the syntax is demanding (like C but unlike MATLAB) but it has a ton of online support, solid inline help, and useful error messages (like MATLAB but unlike C).\n",
    "\n",
    "Included in this directory is a short notebook called `python_introduction.ipynb` with a basic Python intro. This intro will be good for people who are comfortable learning new computer languages but have no background in Python. Another resource that might be helpful if you are coming from matlab is this [cheat sheet](https://mathesaurus.sourceforge.net/matlab-numpy.html). \n",
    "\n",
    "If you are unfamiliar with Python and other languages a better place to start is [here](https://www.datacamp.com/courses/intro-to-python-for-data-science) or [here](https://www.learnpython.org/) (just do the free content). That said, if you are learning to code for the first time, this course probably isn't for you.  \n",
    "\n",
    "When learning a language you should try learn the conventions at the same time. Conventions are useful to make your code more readable, thus understandable and reproducible. [PEP8](https://peps.python.org/pep-0008/) is a standard convention system in Python.\n"
   ]
  },
  {
   "cell_type": "markdown",
   "metadata": {},
   "source": [
    "## 4. fMRI<a id=\"fMRI\"></a>\n",
    "\n",
    "In this class we are going to use fMRI data to understand the mind. We do not have the space or time to teach you about fMRI, so a basic understanding is expected. There are great courses available at Stanford to teach you all you need to know about fMRI, namely [PSYCH204A](https://explorecourses.stanford.edu/search?view=catalog&filter-coursestatus-Active=on&q=PSYCH%20204A:%20Human%20Neuroimaging%20Methods&academicYear=20162017) and [PSYCH204B](https://explorecourses.stanford.edu/search?view=catalog&filter-coursestatus-Active=on&q=PSYCH%20204B:%20Computational%20Neuroimaging&academicYear=20182019). If you need to brush up on the details, below are four videos, primarily from MIT, that provide a great introduction of the **critical** concepts we will be treating as assumed knowledge."
   ]
  },
  {
   "cell_type": "code",
   "execution_count": 1,
   "metadata": {},
   "outputs": [
    {
     "name": "stdout",
     "output_type": "stream",
     "text": [
      "Physics introduction\n"
     ]
    },
    {
     "data": {
      "image/jpeg": "[encoded data removed]",
      "text/html": [
       "\n",
       "        <iframe\n",
       "            width=\"400\"\n",
       "            height=\"300\"\n",
       "            src=\"https://www.youtube.com/embed/NlYXqRG7lus\"\n",
       "            frameborder=\"0\"\n",
       "            allowfullscreen\n",
       "        ></iframe>\n",
       "        "
      ],
      "text/plain": [
       "<IPython.lib.display.YouTubeVideo at 0x7f73242d6940>"
      ]
     },
     "execution_count": 1,
     "metadata": {},
     "output_type": "execute_result"
    }
   ],
   "source": [
    "from IPython.display import YouTubeVideo\n",
    "\n",
    "print('Physics introduction')\n",
    "YouTubeVideo('NlYXqRG7lus')"
   ]
  },
  {
   "cell_type": "code",
   "execution_count": 4,
   "metadata": {},
   "outputs": [
    {
     "name": "stdout",
     "output_type": "stream",
     "text": [
      "Bootcamp part 1\n"
     ]
    },
    {
     "data": {
      "image/jpeg": "[encoded data removed]",
      "text/html": [
       "\n",
       "        <iframe\n",
       "            width=\"400\"\n",
       "            height=\"300\"\n",
       "            src=\"https://www.youtube.com/embed/yA65FuSpOMs\"\n",
       "            frameborder=\"0\"\n",
       "            allowfullscreen\n",
       "        ></iframe>\n",
       "        "
      ],
      "text/plain": [
       "<IPython.lib.display.YouTubeVideo at 0x7f3d702107b8>"
      ]
     },
     "execution_count": 4,
     "metadata": {},
     "output_type": "execute_result"
    }
   ],
   "source": [
    "print('Bootcamp part 1')\n",
    "YouTubeVideo('yA65FuSpOMs')"
   ]
  },
  {
   "cell_type": "code",
   "execution_count": 6,
   "metadata": {},
   "outputs": [
    {
     "name": "stdout",
     "output_type": "stream",
     "text": [
      "Bootcamp part 2\n"
     ]
    },
    {
     "data": {
      "image/jpeg": "[encoded data removed]",
      "text/html": [
       "\n",
       "        <iframe\n",
       "            width=\"400\"\n",
       "            height=\"300\"\n",
       "            src=\"https://www.youtube.com/embed/SsJjuJJjNHM\"\n",
       "            frameborder=\"0\"\n",
       "            allowfullscreen\n",
       "        ></iframe>\n",
       "        "
      ],
      "text/plain": [
       "<IPython.lib.display.YouTubeVideo at 0x7f3d70253470>"
      ]
     },
     "execution_count": 6,
     "metadata": {},
     "output_type": "execute_result"
    }
   ],
   "source": [
    "print('Bootcamp part 2')\n",
    "YouTubeVideo('SsJjuJJjNHM')"
   ]
  },
  {
   "cell_type": "code",
   "execution_count": 7,
   "metadata": {},
   "outputs": [
    {
     "name": "stdout",
     "output_type": "stream",
     "text": [
      "Bootcamp part 3\n"
     ]
    },
    {
     "data": {
      "image/jpeg": "[encoded data removed]",
      "text/html": [
       "\n",
       "        <iframe\n",
       "            width=\"400\"\n",
       "            height=\"300\"\n",
       "            src=\"https://www.youtube.com/embed/BYEWA_jsJbM\"\n",
       "            frameborder=\"0\"\n",
       "            allowfullscreen\n",
       "        ></iframe>\n",
       "        "
      ],
      "text/plain": [
       "<IPython.lib.display.YouTubeVideo at 0x7f3d7021f320>"
      ]
     },
     "execution_count": 7,
     "metadata": {},
     "output_type": "execute_result"
    }
   ],
   "source": [
    "print('Bootcamp part 3')\n",
    "YouTubeVideo('BYEWA_jsJbM')"
   ]
  },
  {
   "cell_type": "markdown",
   "metadata": {},
   "source": [
    "To make sure we are on the same page, here is a glossary of common terms used to describe fMRI experiments and components:\n",
    "\n",
    "> *The functional*: The f in fMRI: a volume collected every 1-2s that reflects blood flow in the brain (which reflects metabolism which reflects activity).  \n",
    "> *The anatomical*: The high resolution volume used to define the participant's brain anatomy. This is used as a reference to which we align functional data to.    \n",
    "> *Voxel*: A 3 dimensional pixel that is the smallest divisible unit of MRI and fMRI data.  \n",
    "> *TR*: Also known as Repetition Time. It is the time interval at which pulses occur and signal is collected. It can thus be considered as the sampling period of the BOLD signal. More details can be found here: https://mriquestions.com/tr-and-te.html  \n",
    "> *Stimulus*: The item/event/movie that present to the participant in an experiment. Typically a picture, movie or a sound.  \n",
    "> *Trial*: A complete unit of the experiment that typically involves an exemplar of the condition. For instance, this could be a presentation of a stimulus, but also multiple stimuli could be presented in a trial.  \n",
    "> *Block*: A sequence of trials usually because they belong to the same condition or a counter-balanced set of conditions. Usually there is a break between blocks.  \n",
    "> *Run*: Another name for a functional acquisition. A run of fMRI is typically less than 15 minutes, which is broken up so that you can check in on the participant.  \n",
    "> *Counter-balancing*: It is important that we have a balance between the conditions and that the order they are presented is balanced to avoid order effects.  \n",
    "> *Rest time*: We insert pauses between trials in a study in order to avoid fatigue.  \n",
    "> *Region of interest (ROI)*: This is a region of the brain that has been selected for further analysis. It can be based on anatomical boundaries, a boundaries caused by a test of function, or be an arbitrary shape (e.g., a sphere)"
   ]
  },
  {
   "cell_type": "markdown",
   "metadata": {},
   "source": [
    "## 5. Movies<a id=\"movies\"></a>\n",
    "\n",
    "In this course we will exclusively be using naturalistic stimuli. Most of the time, that means participants watching and listening to movies while undergoing fMRI; however, sometimes it will mean participants are listening to audio like music or stories. When I say that movies are naturalistic, I really just mean that they are *more* naturalistic than traditional task-based designs (i.e., experiments with traditional trial/block designs and manipulated conditions). Movies usually depict real people in real scenes, with realistic dynamics. \n",
    "\n",
    "Movies, of course, are not real and there are a lot of ways that they are *not* naturalistic. For instance, most movies are not from a first person perspective, most movies have scene cuts which don't happen in real life, movies often display fantastical things, and participants are passively experiencing movies rather than actively navigating the content. Nonetheless, movies typically contain more context and complexity than traditional task-based experiments.\n",
    "\n",
    "This richness comes at the cost of experimental control, so we might need to work harder on the back end to eliminate the effect of confounds and ensure that we are testing the thing we want to test. Nonetheless, movies respect the richness of human experience in ways that might let us better capture how the mind works. Moreover, there is a folk wisdom amongst people in this field that movies evoke stronger neural responses than traditional task stimuli. Finally, movies are compatible with many populations: from infants, to children, to patients, to older adults. This creates a common ground on which all individuals can be compared. It is for these reasons that movies are incredibly popular in cognitive neuroscience, with dozens of publicly available datasets.\n",
    "\n",
    "We will use many datasets in this course to answer the different questions we are focused on. Some of the datasets will contain minimally processed data (e.g., the functional data might just be aligned to standard space), while other datasets will include heavily preprocessed data (e.g., functional data that has been masked to include activity only from a specific region).\n",
    "\n",
    "If you would like to learn more about the potential of movies for advancing cognitive neuroscience, [this](https://snastase.github.io/files/Nastase_NIMG_2020a.pdf) is a great paper by leaders in the field."
   ]
  },
  {
   "cell_type": "markdown",
   "metadata": {},
   "source": [
    "## 6. BrainIAK<a id=\"brainiak\"></a>\n",
    "\n",
    "The Brain Imaging Analysis Kit ([BrainIAK](http://brainiak.org/)) is an open source toolbox coming out of a collaboration between computer scientists and neuroscientists. It uses machine learning and high-performance parallel computing to take analyses that took months and made them run in seconds. BrainIAK contains a number of advanced tools that cannot be found anywhere else. We will cover these tools extensively so that by the end of the course you will be conducting some of the most sophisticated fMRI analyses currently possible.\n",
    "\n",
    "A good introduction to BrainIAK comes from a recent Nature Neuroscience review:\n",
    "\n",
    "Cohen, J.D., Daw, N., Engelhardt, B., Hasson, U., Li, K., Niv, Y., Norman, K.A., Pillow, J., Ramadge, P.J., Turk-Browne, N.B. and Willke, T.L., (2017). [Computational approaches to fMRI analysis](https://ntblab.yale.edu/wp-content/uploads/2015/01/Cohen_NN_2017.pdf). *Nature Neuroscience, 20(3)*, 304-313.\n",
    "\n",
    "Towards the end of the course we will go beyond what BrainIAK offers, giving you insight in how to use tools at the bleeding-edge of research."
   ]
  },
  {
   "cell_type": "markdown",
   "metadata": {},
   "source": [
    "## 7. Getting started<a id=\"starting\"></a>\n",
    "\n",
    "Below we are going to get started with some code using Python and BrainIAK.\n",
    "\n",
    "Up until now all of the cells (sections in jupyter notebook) have been markdown, meaning that they are treated as text. Below we have cells that are treated as (Python) code.\n",
    "\n",
    "The first thing we do is import \"modules\" that we are going to use. Python on its own offers very few commands for you to use. To open up the world of things you can easily do with Python, we import modules. "
   ]
  },
  {
   "cell_type": "code",
   "execution_count": null,
   "metadata": {},
   "outputs": [],
   "source": [
    "# suppress warnings\n",
    "import warnings\n",
    "import sys \n",
    "if not sys.warnoptions:\n",
    "    warnings.simplefilter(\"ignore\")\n",
    "\n",
    "# Essential module for data organization and manipulation. Used ubiquitously\n",
    "import numpy as np #numpy's \"nickname\" is np\n",
    "\n",
    "# Import a function from BrainIAK to simulate fMRI data\n",
    "import brainiak.utils.fmrisim as sim  \n",
    "\n",
    "# The plotting tool we will be using in this course\n",
    "import matplotlib.pyplot as plt\n",
    "\n",
    "# this lets you peek what's inside a function\n",
    "import inspect \n",
    "\n",
    "# Display any generated plots inline \n",
    "%matplotlib inline \n",
    "\n",
    "# Hint: you can run this cell by pressing shift-enter"
   ]
  },
  {
   "cell_type": "markdown",
   "metadata": {},
   "source": [
    "### Brain template \n",
    "\n",
    "We are now going to use some of the tools we just loaded. First we'll call a function from `brainiak` to load a gray matter mask from the MNI152 standard brain. Here's an article talking about different anatomical standards, including MNI152: <a href=\"https://www.ncbi.nlm.nih.gov/pmc/articles/PMC4324755/\">Structural Brain Atlases: Design, Rationale, and Applications in Normal and Pathological Cohorts</a>\n"
   ]
  },
  {
   "cell_type": "code",
   "execution_count": null,
   "metadata": {},
   "outputs": [],
   "source": [
    "# Set the size (in terms of X, Y, Z) of the volume we want to create\n",
    "dimensions = np.asarray([64, 64, 64])\n",
    "\n",
    "# Generate an anatomical image with the size above of brain voxels in gray matter\n",
    "# This outputs variables for two versions of the image, binary (mask) and probabilistic (template)\n",
    "mask, template = sim.mask_brain(dimensions, mask_self=False)"
   ]
  },
  {
   "cell_type": "markdown",
   "metadata": {},
   "source": [
    "Congrats, you just ran a command from BrainIAK!!\n",
    "\n",
    "We are now going to take a slice from that template and display it."
   ]
  },
  {
   "cell_type": "code",
   "execution_count": null,
   "metadata": {},
   "outputs": [],
   "source": [
    "# Get an axial (a.k.a. transverse or horizontal) slice halfway through the brain\n",
    "\n",
    "mid_idx = dimensions[2] // 2 #two division signs gives you an integer -> which is necessary for making the slice\n",
    "axial_slice = template[:, :, mid_idx]\n",
    "\n",
    "# imshow can visualize a 2d array \n",
    "plt.imshow(axial_slice)\n",
    "plt.title('An axial brain slice');"
   ]
  },
  {
   "cell_type": "markdown",
   "metadata": {},
   "source": [
    "**Exercise 1:**<a id=\"ex1\"></a> Building on the axial brain slice you generated above, use the mask and template versions of the MNI152 anatomical standard to generate *three* new visualizations. For example: slice along a different dimension (coronal or sagittal), add subplots with multiple axial slices, show a histogram of values in the slice, etc. The point of this exercise is to practice plotting.  "
   ]
  },
  {
   "cell_type": "code",
   "execution_count": null,
   "metadata": {},
   "outputs": [],
   "source": [
    "# Insert your code here"
   ]
  },
  {
   "cell_type": "markdown",
   "metadata": {},
   "source": [
    "### \"help()\"\n",
    "\n",
    "`help` is a very useful function in Python. If you type `help(function_name)` in Python, you will get some basic infomation about how to use this function. If you run the following line, you will see that `sim.mask_brain` take the dimension of x, y, and z, and then output a MNI152 template with the specified dimensions. Note, you can also do this by typing [SHIFT] + [TAB] while the cursor is hovering over a function name or by typing `function_name?`. "
   ]
  },
  {
   "cell_type": "code",
   "execution_count": null,
   "metadata": {},
   "outputs": [],
   "source": [
    "help(sim.mask_brain)"
   ]
  },
  {
   "cell_type": "markdown",
   "metadata": {},
   "source": [
    "### Look at the source code\n",
    "If you want to see the source code, you can use the `getsource` function from the `inspect` package. \n",
    "\n",
    "Run the following code to see the source code of `sim.mask_brain`. "
   ]
  },
  {
   "cell_type": "code",
   "execution_count": null,
   "metadata": {},
   "outputs": [],
   "source": [
    "source_code = inspect.getsource(sim.mask_brain)\n",
    "print(source_code)"
   ]
  },
  {
   "cell_type": "markdown",
   "metadata": {},
   "source": [
    "### Hemodynamic Response Function\n",
    "\n",
    "The brain response that we are measuring with fMRI is the Blood Oxygen Level Dependent Response (BOLD), which has a stereotyped behavior called the Hemodynamic Response Function (HRF). Understanding what causes the HRF and how fMRI measures it is not in the scope of this course. However, it is important to see what the HRF looks like because it influences how we interpret fMRI data. \n",
    "\n",
    "Below is code to plot an HRF that we typically assume: a double gamma HRF. "
   ]
  },
  {
   "cell_type": "code",
   "execution_count": null,
   "metadata": {},
   "outputs": [],
   "source": [
    "# Preset a figure\n",
    "plt.figure()\n",
    "\n",
    "# Functions that start with '_' are hidden when you use [TAB] to list the functions. This reduces clutter. However, you can still use them, like below\n",
    "hrf = sim._double_gamma_hrf(temporal_resolution=1)\n",
    "\n",
    "# Plot the figure and add labels\n",
    "plt.plot(hrf) \n",
    "plt.xlabel('Time since onset (s)')\n",
    "plt.ylabel('Response amplitude');"
   ]
  },
  {
   "cell_type": "markdown",
   "metadata": {},
   "source": [
    "Here is an example of how the brain might respond to events. Specifically, we are going to create some events that are arbitrary here but could represent faces appearing for example. We then **convolve** the HRF with those events to get a predicted time course. Convolution is a tricky topic, but [here](https://betterexplained.com/articles/intuitive-convolution/) is a great intuitive introduction."
   ]
  },
  {
   "cell_type": "code",
   "execution_count": null,
   "metadata": {},
   "outputs": [],
   "source": [
    "# When do events occur\n",
    "event_sequence = [5, 12, 14, 20, 32]\n",
    "\n",
    "# Insert the events into an empty vector, where each element is a timepoint (called a TR)\n",
    "stim_function = np.zeros((40, 1))\n",
    "stim_function[event_sequence] = 1\n",
    "\n",
    "# Convolve the stim_function with the double gamma HRF\n",
    "response = sim.convolve_hrf(stim_function, tr_duration = 1, temporal_resolution=1)\n",
    "\n",
    "# Plot the convolved response\n",
    "plt.plot(response)\n",
    "\n",
    "# Plot the event onset (i.e., the stim_function)\n",
    "plt.vlines(event_sequence, 0, 1, 'k')\n",
    "\n",
    "# Describe the plot\n",
    "plt.legend(['Convolved brain response', 'Event onset'])\n",
    "plt.xlabel('Time (s)')\n",
    "plt.ylabel('Response');"
   ]
  },
  {
   "cell_type": "markdown",
   "metadata": {},
   "source": [
    "**Exercise 2**<a id=\"ex2\"></a>: How should we change **brain data** so that the onset of events (e.g., a person appears in the scene, or when words are spoken) correspond to the peak of the brain's response to the events? Consider the plot above to form your answer.\n",
    "\n",
    "**A:**"
   ]
  },
  {
   "cell_type": "markdown",
   "metadata": {
    "tags": []
   },
   "source": [
    "**Exercise 3:**<a id=\"ex3\"></a> Congratulations, you just completed your first assignment! Now, you need to submit your assignment to Github classrooms.\n",
    "\n",
    "First, make sure this notebook is saved (it will automatically save every 5 seconds, but never bad to double check!). Then, go to the toolbar at the top and under \"Kernel\" select \"Restart Kernel and Run All Cells\". This runs all the code that you've added here, in order from top to bottom, providing us a clean notebook to grade with all your output. **Make sure that your code has run all the way through by checking the output of each cell. If there is a bug in your code, the entire notebook will stop executing, and we cannot grade it if your code hasn't been run!**\n",
    "\n",
    "Open a shell terminal window and change directory (`cd`) to go into the folder where this notebook is stored. Then type the following commands on the command line:\n",
    "\n",
    "`git add -A` This tells Github to add all the files in the current directory to your Github repository. \n",
    "- You can also add individual filenames here, such as `git add mmn23-week01-setup.ipynb` instead, if you only want to add specific files. \n",
    "\n",
    "`git commit -m 'MESSAGE'` This sends those files you added to github with whatever message you want(e.g., “final homework submission”)\n",
    "\n",
    "`git push` Finalize those changes and add them to git! \n",
    "\n",
    "Then, log into your github account in a web browser and make sure it all looks okay online. You can update your homework assignment as many times as you would like before the deadline."
   ]
  },
  {
   "cell_type": "markdown",
   "metadata": {
    "tags": []
   },
   "source": [
    "## Contributions<a id=\"contributions\"></a>\n",
    "  \n",
    "M. Kumar, C. Ellis and N. Turk-Browne produced the initial notebook  01/2018  \n",
    "T. Meissner minor edits  \n",
    "Q. Lu: switch to matplotlib, fix dead links, add resources, encapsulate brainiak fmrisim  \n",
    "C. Ellis updated with comments from cmhn-s19    \n",
    "T. Yates edited notebook for cmhn-s21        \n",
    "E. Busch edited notebook for cmhn-s22  \n",
    "E. Busch edited for Grace cluster and Jupyter Lab for cmhn-s23\n",
    "C. Ellis edited for mmn23"
   ]
  }
 ],
 "metadata": {
  "anaconda-cloud": {},
  "kernelspec": {
   "display_name": "Python 3",
   "language": "python",
   "name": "python3"
  },
  "language_info": {
   "codemirror_mode": {
    "name": "ipython",
    "version": 3
   },
   "file_extension": ".py",
   "mimetype": "text/x-python",
   "name": "python",
   "nbconvert_exporter": "python",
   "pygments_lexer": "ipython3",
   "version": "3.6.13"
  }
 },
 "nbformat": 4,
 "nbformat_minor": 4
}
